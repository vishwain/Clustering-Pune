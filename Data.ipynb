{
 "cells": [
  {
   "cell_type": "markdown",
   "metadata": {},
   "source": [
    "### Data requirement"
   ]
  },
  {
   "cell_type": "markdown",
   "metadata": {},
   "source": [
    "In order to divide the areas with existing businesses in the city into clusters, it is first required to get the coordinates of the location. Then search for the venues data around this coordinate. The locations need to be picked according to their prospects and such that most of the city is covered when querying for the venues data.\n",
    "\n",
    "To further analyze the other aspects of the location, I will use data of bank and ATM location/coordinates. To check the connectivity to the location by, data of public transport routes and stops/junctions will be required."
   ]
  },
  {
   "cell_type": "markdown",
   "metadata": {},
   "source": [
    "__So the data required will be:__\n",
    "  * Address of the potential location to get its coordinates\n",
    "  * Data containing coordinates of public transport bus stops \n",
    "  * Data of coordinates of the ATM's\n",
    "  * Data of coordinates of the bank"
   ]
  },
  {
   "cell_type": "markdown",
   "metadata": {},
   "source": [
    "### Data collection"
   ]
  },
  {
   "cell_type": "markdown",
   "metadata": {},
   "source": [
    "Data: `Area name/Neighborhood`\n",
    "\n",
    "Specification: Address of the area\n",
    "\n",
    "Source: Self decided, Asked people\n",
    "\n",
    "Data format: *None*\n",
    "\n",
    "---\n",
    "Data: `Public transport stops`\n",
    "\n",
    "Specification: Area name/Neighborhood or stop name, Coordinates\n",
    "\n",
    "Source: http://opendata.punecorporation.org/Citizen/CitizenDatasets/Indexcsv\n",
    "\n",
    "Data format: csv file\n",
    "\n",
    "***\n",
    "Data: `ATM locations`\n",
    "\n",
    "Specification: Area name/Neighborhood, Coordinates\n",
    "\n",
    "Source: http://opendata.punecorporation.org/Citizen/CitizenDatasets/Indexcsv\n",
    "\n",
    "Data format: csv file\n",
    "\n",
    "---\n",
    "Data: `Bank locations`\n",
    "\n",
    "Specification: Area name/Neighborhood, Coordinates\n",
    "\n",
    "Source: http://opendata.punecorporation.org/Citizen/CitizenDatasets/Indexcsv\n",
    "\n",
    "Data format: csv file"
   ]
  },
  {
   "cell_type": "markdown",
   "metadata": {},
   "source": [
    "#### Other data:\n",
    "I might use data for the routes of the bus to show it on map. It will be possible to check how many routes lead to or pass through the business locations."
   ]
  },
  {
   "cell_type": "code",
   "execution_count": null,
   "metadata": {},
   "outputs": [],
   "source": []
  }
 ],
 "metadata": {
  "kernelspec": {
   "display_name": "Python 3",
   "language": "python",
   "name": "python3"
  },
  "language_info": {
   "codemirror_mode": {
    "name": "ipython",
    "version": 3
   },
   "file_extension": ".py",
   "mimetype": "text/x-python",
   "name": "python",
   "nbconvert_exporter": "python",
   "pygments_lexer": "ipython3",
   "version": "3.7.3"
  },
  "varInspector": {
   "cols": {
    "lenName": 16,
    "lenType": 16,
    "lenVar": 40
   },
   "kernels_config": {
    "python": {
     "delete_cmd_postfix": "",
     "delete_cmd_prefix": "del ",
     "library": "var_list.py",
     "varRefreshCmd": "print(var_dic_list())"
    },
    "r": {
     "delete_cmd_postfix": ") ",
     "delete_cmd_prefix": "rm(",
     "library": "var_list.r",
     "varRefreshCmd": "cat(var_dic_list()) "
    }
   },
   "types_to_exclude": [
    "module",
    "function",
    "builtin_function_or_method",
    "instance",
    "_Feature"
   ],
   "window_display": false
  }
 },
 "nbformat": 4,
 "nbformat_minor": 2
}
