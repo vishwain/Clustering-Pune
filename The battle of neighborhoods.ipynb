{
 "cells": [
  {
   "cell_type": "markdown",
   "metadata": {},
   "source": [
    "# Analyzing business potential of areas in Pune, India"
   ]
  },
  {
   "cell_type": "code",
   "execution_count": 70,
   "metadata": {},
   "outputs": [],
   "source": [
    "import pandas as pd\n",
    "import numpy as np\n",
    "from geopy.geocoders import Nominatim\n",
    "import requests"
   ]
  },
  {
   "cell_type": "code",
   "execution_count": 74,
   "metadata": {},
   "outputs": [],
   "source": [
    "def get_coordinates(address_list):\n",
    "    geolocator = Nominatim(user_agent=\"wain\")\n",
    "    locations = pd.DataFrame(columns=['Area name', 'latitude', 'longitude'])\n",
    "    for address in address_list:\n",
    "        try:\n",
    "            location = geolocator.geocode(address)\n",
    "            latitude = location.latitude\n",
    "            longitude = location.longitude\n",
    "        except:\n",
    "            latitude = 'Address not found'\n",
    "            longitude = 'Address not found'\n",
    "        locations = locations.append(\n",
    "            {\n",
    "                'Area name': address,\n",
    "                'latitude': latitude,\n",
    "                'longitude': longitude\n",
    "            },\n",
    "            ignore_index=True)\n",
    "    return locations"
   ]
  },
  {
   "cell_type": "code",
   "execution_count": 166,
   "metadata": {},
   "outputs": [
    {
     "data": {
      "text/html": [
       "<div>\n",
       "<style scoped>\n",
       "    .dataframe tbody tr th:only-of-type {\n",
       "        vertical-align: middle;\n",
       "    }\n",
       "\n",
       "    .dataframe tbody tr th {\n",
       "        vertical-align: top;\n",
       "    }\n",
       "\n",
       "    .dataframe thead th {\n",
       "        text-align: right;\n",
       "    }\n",
       "</style>\n",
       "<table border=\"1\" class=\"dataframe\">\n",
       "  <thead>\n",
       "    <tr style=\"text-align: right;\">\n",
       "      <th></th>\n",
       "      <th>Area name</th>\n",
       "      <th>latitude</th>\n",
       "      <th>longitude</th>\n",
       "    </tr>\n",
       "  </thead>\n",
       "  <tbody>\n",
       "    <tr>\n",
       "      <th>0</th>\n",
       "      <td>Shankar Kalat nagar</td>\n",
       "      <td>18.604093</td>\n",
       "      <td>73.754065</td>\n",
       "    </tr>\n",
       "    <tr>\n",
       "      <th>1</th>\n",
       "      <td>Pimpri-Chinchwad</td>\n",
       "      <td>18.627929</td>\n",
       "      <td>73.800983</td>\n",
       "    </tr>\n",
       "    <tr>\n",
       "      <th>2</th>\n",
       "      <td>Aundh,Pune</td>\n",
       "      <td>18.561883</td>\n",
       "      <td>73.810196</td>\n",
       "    </tr>\n",
       "    <tr>\n",
       "      <th>3</th>\n",
       "      <td>Kothrud</td>\n",
       "      <td>18.503889</td>\n",
       "      <td>73.807673</td>\n",
       "    </tr>\n",
       "    <tr>\n",
       "      <th>4</th>\n",
       "      <td>Koregaon Park</td>\n",
       "      <td>18.537553</td>\n",
       "      <td>73.893925</td>\n",
       "    </tr>\n",
       "  </tbody>\n",
       "</table>\n",
       "</div>"
      ],
      "text/plain": [
       "             Area name   latitude  longitude\n",
       "0  Shankar Kalat nagar  18.604093  73.754065\n",
       "1     Pimpri-Chinchwad  18.627929  73.800983\n",
       "2           Aundh,Pune  18.561883  73.810196\n",
       "3              Kothrud  18.503889  73.807673\n",
       "4        Koregaon Park  18.537553  73.893925"
      ]
     },
     "execution_count": 166,
     "metadata": {},
     "output_type": "execute_result"
    }
   ],
   "source": [
    "address = ['Shankar Kalat nagar','Pimpri-Chinchwad','Aundh,Pune','Kothrud','Koregaon Park']\n",
    "locations = get_coordinates(address)\n",
    "locations"
   ]
  },
  {
   "cell_type": "code",
   "execution_count": 76,
   "metadata": {},
   "outputs": [],
   "source": [
    "# hide this cell\n",
    "# credential foursquare API\n",
    "CLIENT_ID = 'DMMNDCKP4HCEBKNG0OZUKP4HQ4G2ARKETXFJLZOI1DY001IT' # your Foursquare ID\n",
    "CLIENT_SECRET = 'BNOTBJCDHCHRJ3Z1EAMLB0TXSCA4RUH1HSABRTIV33ERSMAM' # your Foursquare Secret\n",
    "VERSION = '20180605' # Foursquare API version"
   ]
  },
  {
   "cell_type": "code",
   "execution_count": 112,
   "metadata": {},
   "outputs": [],
   "source": [
    "import json\n",
    "from pandas.io.json import json_normalize"
   ]
  },
  {
   "cell_type": "code",
   "execution_count": 121,
   "metadata": {},
   "outputs": [],
   "source": [
    "def get_venues(lat, lon):\n",
    "    LIMIT = 100\n",
    "    radius = 5000\n",
    "    try:\n",
    "        url = 'https://api.foursquare.com/v2/venues/explore?&client_id={}&client_secret={}&v={}&ll={},{}&radius={}&limit={}'.format(\n",
    "            CLIENT_ID, \n",
    "            CLIENT_SECRET, \n",
    "            VERSION, \n",
    "            lat, \n",
    "            lon, \n",
    "            radius, \n",
    "            LIMIT)\n",
    "        results = requests.get(url).json()\n",
    "        venues = results['response']['groups'][0]['items']\n",
    "        nearby_venues = json_normalize(venues) # flatten JSON\n",
    "        filtered_columns = ['venue.name', 'venue.categories', 'venue.location.lat', 'venue.location.lng']\n",
    "        nearby_venues =nearby_venues.loc[:, filtered_columns]\n",
    "        nearby_venues['venue.categories'] = nearby_venues.apply(get_category_type, axis=1)\n",
    "        nearby_venues.columns = [col.split(\".\")[-1] for col in nearby_venues.columns]    \n",
    "        \n",
    "    except:\n",
    "        return None\n",
    "            \n",
    "    return nearby_venues"
   ]
  },
  {
   "cell_type": "code",
   "execution_count": 122,
   "metadata": {},
   "outputs": [],
   "source": [
    "def get_category_type(row):\n",
    "    try:\n",
    "        categories_list = row['categories']\n",
    "    except:\n",
    "        categories_list = row['venue.categories']\n",
    "        \n",
    "    if len(categories_list) == 0:\n",
    "        return None\n",
    "    else:\n",
    "        return categories_list[0]['name']"
   ]
  },
  {
   "cell_type": "code",
   "execution_count": 190,
   "metadata": {
    "scrolled": true
   },
   "outputs": [],
   "source": [
    "df_venues = pd.DataFrame(columns=['name','categories','lat','lng'])\n",
    "for i in range (0,len(locations.index)):\n",
    "    df_venues = df_venues.append(get_venues(locations.latitude[i],locations.longitude[i]))\n",
    "    \n"
   ]
  },
  {
   "cell_type": "code",
   "execution_count": 200,
   "metadata": {
    "scrolled": false
   },
   "outputs": [
    {
     "name": "stdout",
     "output_type": "stream",
     "text": [
      "(492, 4)\n"
     ]
    },
    {
     "data": {
      "text/plain": [
       "name          361\n",
       "categories     98\n",
       "lat           424\n",
       "lng           423\n",
       "dtype: int64"
      ]
     },
     "execution_count": 200,
     "metadata": {},
     "output_type": "execute_result"
    }
   ],
   "source": [
    "print(df_venues.shape)\n",
    "df_venues.nunique()\n"
   ]
  },
  {
   "cell_type": "code",
   "execution_count": 199,
   "metadata": {},
   "outputs": [
    {
     "data": {
      "text/html": [
       "<div>\n",
       "<style scoped>\n",
       "    .dataframe tbody tr th:only-of-type {\n",
       "        vertical-align: middle;\n",
       "    }\n",
       "\n",
       "    .dataframe tbody tr th {\n",
       "        vertical-align: top;\n",
       "    }\n",
       "\n",
       "    .dataframe thead th {\n",
       "        text-align: right;\n",
       "    }\n",
       "</style>\n",
       "<table border=\"1\" class=\"dataframe\">\n",
       "  <thead>\n",
       "    <tr style=\"text-align: right;\">\n",
       "      <th></th>\n",
       "      <th>name</th>\n",
       "      <th>categories</th>\n",
       "      <th>lat</th>\n",
       "      <th>lng</th>\n",
       "    </tr>\n",
       "  </thead>\n",
       "  <tbody>\n",
       "    <tr>\n",
       "      <th>0</th>\n",
       "      <td>Sayaji</td>\n",
       "      <td>Hotel</td>\n",
       "      <td>18.599535</td>\n",
       "      <td>73.754995</td>\n",
       "    </tr>\n",
       "    <tr>\n",
       "      <th>1</th>\n",
       "      <td>Natural Ice Cream</td>\n",
       "      <td>Ice Cream Shop</td>\n",
       "      <td>18.591192</td>\n",
       "      <td>73.752440</td>\n",
       "    </tr>\n",
       "    <tr>\n",
       "      <th>2</th>\n",
       "      <td>Barbeque Nation</td>\n",
       "      <td>BBQ Joint</td>\n",
       "      <td>18.599390</td>\n",
       "      <td>73.755090</td>\n",
       "    </tr>\n",
       "    <tr>\n",
       "      <th>3</th>\n",
       "      <td>Courtyard by Marriott</td>\n",
       "      <td>Hotel</td>\n",
       "      <td>18.591527</td>\n",
       "      <td>73.746831</td>\n",
       "    </tr>\n",
       "    <tr>\n",
       "      <th>4</th>\n",
       "      <td>Little Italy</td>\n",
       "      <td>Italian Restaurant</td>\n",
       "      <td>18.591513</td>\n",
       "      <td>73.743668</td>\n",
       "    </tr>\n",
       "  </tbody>\n",
       "</table>\n",
       "</div>"
      ],
      "text/plain": [
       "                    name          categories        lat        lng\n",
       "0                 Sayaji               Hotel  18.599535  73.754995\n",
       "1      Natural Ice Cream      Ice Cream Shop  18.591192  73.752440\n",
       "2        Barbeque Nation           BBQ Joint  18.599390  73.755090\n",
       "3  Courtyard by Marriott               Hotel  18.591527  73.746831\n",
       "4           Little Italy  Italian Restaurant  18.591513  73.743668"
      ]
     },
     "execution_count": 199,
     "metadata": {},
     "output_type": "execute_result"
    }
   ],
   "source": [
    "df_venues.head()"
   ]
  },
  {
   "cell_type": "code",
   "execution_count": null,
   "metadata": {},
   "outputs": [],
   "source": []
  }
 ],
 "metadata": {
  "kernelspec": {
   "display_name": "Python 3",
   "language": "python",
   "name": "python3"
  },
  "language_info": {
   "codemirror_mode": {
    "name": "ipython",
    "version": 3
   },
   "file_extension": ".py",
   "mimetype": "text/x-python",
   "name": "python",
   "nbconvert_exporter": "python",
   "pygments_lexer": "ipython3",
   "version": "3.7.3"
  },
  "varInspector": {
   "cols": {
    "lenName": 16,
    "lenType": 16,
    "lenVar": 40
   },
   "kernels_config": {
    "python": {
     "delete_cmd_postfix": "",
     "delete_cmd_prefix": "del ",
     "library": "var_list.py",
     "varRefreshCmd": "print(var_dic_list())"
    },
    "r": {
     "delete_cmd_postfix": ") ",
     "delete_cmd_prefix": "rm(",
     "library": "var_list.r",
     "varRefreshCmd": "cat(var_dic_list()) "
    }
   },
   "oldHeight": 808,
   "position": {
    "height": "830px",
    "left": "1535px",
    "right": "20px",
    "top": "120px",
    "width": "365px"
   },
   "types_to_exclude": [
    "module",
    "function",
    "builtin_function_or_method",
    "instance",
    "_Feature"
   ],
   "varInspector_section_display": "block",
   "window_display": true
  }
 },
 "nbformat": 4,
 "nbformat_minor": 2
}
