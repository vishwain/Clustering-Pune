{
 "cells": [
  {
   "cell_type": "code",
   "execution_count": 1,
   "metadata": {},
   "outputs": [],
   "source": [
    "import pandas as pd\n",
    "import numpy as np"
   ]
  },
  {
   "cell_type": "code",
   "execution_count": 2,
   "metadata": {},
   "outputs": [
    {
     "data": {
      "text/html": [
       "<div>\n",
       "<style scoped>\n",
       "    .dataframe tbody tr th:only-of-type {\n",
       "        vertical-align: middle;\n",
       "    }\n",
       "\n",
       "    .dataframe tbody tr th {\n",
       "        vertical-align: top;\n",
       "    }\n",
       "\n",
       "    .dataframe thead th {\n",
       "        text-align: right;\n",
       "    }\n",
       "</style>\n",
       "<table border=\"1\" class=\"dataframe\">\n",
       "  <thead>\n",
       "    <tr style=\"text-align: right;\">\n",
       "      <th></th>\n",
       "      <th>stop_id</th>\n",
       "      <th>stop_code</th>\n",
       "      <th>stop_name</th>\n",
       "      <th>stop_desc</th>\n",
       "      <th>stop_lat</th>\n",
       "      <th>stop_lon</th>\n",
       "      <th>zone_id</th>\n",
       "      <th>stop_url</th>\n",
       "      <th>location_type</th>\n",
       "      <th>parent_station</th>\n",
       "      <th>stop_timezone</th>\n",
       "      <th>wheelchair_boarding</th>\n",
       "    </tr>\n",
       "  </thead>\n",
       "  <tbody>\n",
       "    <tr>\n",
       "      <th>0</th>\n",
       "      <td>32769</td>\n",
       "      <td>151131</td>\n",
       "      <td>Forest Office Road</td>\n",
       "      <td>NaN</td>\n",
       "      <td>18.51983</td>\n",
       "      <td>73.63158</td>\n",
       "      <td>NaN</td>\n",
       "      <td>NaN</td>\n",
       "      <td>NaN</td>\n",
       "      <td>NaN</td>\n",
       "      <td>NaN</td>\n",
       "      <td>NaN</td>\n",
       "    </tr>\n",
       "    <tr>\n",
       "      <th>1</th>\n",
       "      <td>32770</td>\n",
       "      <td>152339</td>\n",
       "      <td>Kusalkar Putala</td>\n",
       "      <td>NaN</td>\n",
       "      <td>18.52889</td>\n",
       "      <td>73.82708</td>\n",
       "      <td>NaN</td>\n",
       "      <td>NaN</td>\n",
       "      <td>NaN</td>\n",
       "      <td>NaN</td>\n",
       "      <td>NaN</td>\n",
       "      <td>NaN</td>\n",
       "    </tr>\n",
       "    <tr>\n",
       "      <th>2</th>\n",
       "      <td>32771</td>\n",
       "      <td>154648</td>\n",
       "      <td>Tower Line</td>\n",
       "      <td>NaN</td>\n",
       "      <td>18.67007</td>\n",
       "      <td>73.78613</td>\n",
       "      <td>NaN</td>\n",
       "      <td>NaN</td>\n",
       "      <td>NaN</td>\n",
       "      <td>NaN</td>\n",
       "      <td>NaN</td>\n",
       "      <td>NaN</td>\n",
       "    </tr>\n",
       "    <tr>\n",
       "      <th>3</th>\n",
       "      <td>32772</td>\n",
       "      <td>153069</td>\n",
       "      <td>Nehrunagar Depot</td>\n",
       "      <td>NaN</td>\n",
       "      <td>18.62930</td>\n",
       "      <td>73.81942</td>\n",
       "      <td>NaN</td>\n",
       "      <td>NaN</td>\n",
       "      <td>NaN</td>\n",
       "      <td>NaN</td>\n",
       "      <td>NaN</td>\n",
       "      <td>NaN</td>\n",
       "    </tr>\n",
       "    <tr>\n",
       "      <th>4</th>\n",
       "      <td>32773</td>\n",
       "      <td>151724</td>\n",
       "      <td>Jagtap Chowk</td>\n",
       "      <td>NaN</td>\n",
       "      <td>18.49153</td>\n",
       "      <td>73.90019</td>\n",
       "      <td>NaN</td>\n",
       "      <td>NaN</td>\n",
       "      <td>NaN</td>\n",
       "      <td>NaN</td>\n",
       "      <td>NaN</td>\n",
       "      <td>NaN</td>\n",
       "    </tr>\n",
       "  </tbody>\n",
       "</table>\n",
       "</div>"
      ],
      "text/plain": [
       "   stop_id stop_code           stop_name  stop_desc  stop_lat  stop_lon  \\\n",
       "0    32769    151131  Forest Office Road        NaN  18.51983  73.63158   \n",
       "1    32770    152339     Kusalkar Putala        NaN  18.52889  73.82708   \n",
       "2    32771    154648          Tower Line        NaN  18.67007  73.78613   \n",
       "3    32772    153069    Nehrunagar Depot        NaN  18.62930  73.81942   \n",
       "4    32773    151724        Jagtap Chowk        NaN  18.49153  73.90019   \n",
       "\n",
       "   zone_id  stop_url  location_type  parent_station  stop_timezone  \\\n",
       "0      NaN       NaN            NaN             NaN            NaN   \n",
       "1      NaN       NaN            NaN             NaN            NaN   \n",
       "2      NaN       NaN            NaN             NaN            NaN   \n",
       "3      NaN       NaN            NaN             NaN            NaN   \n",
       "4      NaN       NaN            NaN             NaN            NaN   \n",
       "\n",
       "   wheelchair_boarding  \n",
       "0                  NaN  \n",
       "1                  NaN  \n",
       "2                  NaN  \n",
       "3                  NaN  \n",
       "4                  NaN  "
      ]
     },
     "execution_count": 2,
     "metadata": {},
     "output_type": "execute_result"
    }
   ],
   "source": [
    "df_stops = pd.read_csv('stops.csv')\n",
    "df_stops.head()"
   ]
  },
  {
   "cell_type": "code",
   "execution_count": 3,
   "metadata": {},
   "outputs": [
    {
     "data": {
      "text/plain": [
       "stop_lat    False\n",
       "stop_lon    False\n",
       "dtype: bool"
      ]
     },
     "execution_count": 3,
     "metadata": {},
     "output_type": "execute_result"
    }
   ],
   "source": [
    "df_stops[['stop_lat','stop_lon']].isna().any()"
   ]
  },
  {
   "cell_type": "code",
   "execution_count": 4,
   "metadata": {},
   "outputs": [
    {
     "data": {
      "text/html": [
       "<div>\n",
       "<style scoped>\n",
       "    .dataframe tbody tr th:only-of-type {\n",
       "        vertical-align: middle;\n",
       "    }\n",
       "\n",
       "    .dataframe tbody tr th {\n",
       "        vertical-align: top;\n",
       "    }\n",
       "\n",
       "    .dataframe thead th {\n",
       "        text-align: right;\n",
       "    }\n",
       "</style>\n",
       "<table border=\"1\" class=\"dataframe\">\n",
       "  <thead>\n",
       "    <tr style=\"text-align: right;\">\n",
       "      <th></th>\n",
       "      <th>stop_id</th>\n",
       "      <th>stop_code</th>\n",
       "      <th>stop_name</th>\n",
       "      <th>stop_lat</th>\n",
       "      <th>stop_lon</th>\n",
       "    </tr>\n",
       "  </thead>\n",
       "  <tbody>\n",
       "    <tr>\n",
       "      <th>0</th>\n",
       "      <td>32769</td>\n",
       "      <td>151131</td>\n",
       "      <td>Forest Office Road</td>\n",
       "      <td>18.51983</td>\n",
       "      <td>73.63158</td>\n",
       "    </tr>\n",
       "    <tr>\n",
       "      <th>1</th>\n",
       "      <td>32770</td>\n",
       "      <td>152339</td>\n",
       "      <td>Kusalkar Putala</td>\n",
       "      <td>18.52889</td>\n",
       "      <td>73.82708</td>\n",
       "    </tr>\n",
       "    <tr>\n",
       "      <th>2</th>\n",
       "      <td>32771</td>\n",
       "      <td>154648</td>\n",
       "      <td>Tower Line</td>\n",
       "      <td>18.67007</td>\n",
       "      <td>73.78613</td>\n",
       "    </tr>\n",
       "    <tr>\n",
       "      <th>3</th>\n",
       "      <td>32772</td>\n",
       "      <td>153069</td>\n",
       "      <td>Nehrunagar Depot</td>\n",
       "      <td>18.62930</td>\n",
       "      <td>73.81942</td>\n",
       "    </tr>\n",
       "    <tr>\n",
       "      <th>4</th>\n",
       "      <td>32773</td>\n",
       "      <td>151724</td>\n",
       "      <td>Jagtap Chowk</td>\n",
       "      <td>18.49153</td>\n",
       "      <td>73.90019</td>\n",
       "    </tr>\n",
       "  </tbody>\n",
       "</table>\n",
       "</div>"
      ],
      "text/plain": [
       "   stop_id stop_code           stop_name  stop_lat  stop_lon\n",
       "0    32769    151131  Forest Office Road  18.51983  73.63158\n",
       "1    32770    152339     Kusalkar Putala  18.52889  73.82708\n",
       "2    32771    154648          Tower Line  18.67007  73.78613\n",
       "3    32772    153069    Nehrunagar Depot  18.62930  73.81942\n",
       "4    32773    151724        Jagtap Chowk  18.49153  73.90019"
      ]
     },
     "execution_count": 4,
     "metadata": {},
     "output_type": "execute_result"
    }
   ],
   "source": [
    "df_stops.dropna(axis=1,inplace=True)\n",
    "df_stops.head()"
   ]
  },
  {
   "cell_type": "code",
   "execution_count": 5,
   "metadata": {},
   "outputs": [
    {
     "data": {
      "text/html": [
       "<div>\n",
       "<style scoped>\n",
       "    .dataframe tbody tr th:only-of-type {\n",
       "        vertical-align: middle;\n",
       "    }\n",
       "\n",
       "    .dataframe tbody tr th {\n",
       "        vertical-align: top;\n",
       "    }\n",
       "\n",
       "    .dataframe thead th {\n",
       "        text-align: right;\n",
       "    }\n",
       "</style>\n",
       "<table border=\"1\" class=\"dataframe\">\n",
       "  <thead>\n",
       "    <tr style=\"text-align: right;\">\n",
       "      <th></th>\n",
       "      <th>stop_name</th>\n",
       "      <th>stop_lat</th>\n",
       "      <th>stop_lon</th>\n",
       "    </tr>\n",
       "  </thead>\n",
       "  <tbody>\n",
       "    <tr>\n",
       "      <th>0</th>\n",
       "      <td>Forest Office Road</td>\n",
       "      <td>18.51983</td>\n",
       "      <td>73.63158</td>\n",
       "    </tr>\n",
       "    <tr>\n",
       "      <th>1</th>\n",
       "      <td>Kusalkar Putala</td>\n",
       "      <td>18.52889</td>\n",
       "      <td>73.82708</td>\n",
       "    </tr>\n",
       "    <tr>\n",
       "      <th>2</th>\n",
       "      <td>Tower Line</td>\n",
       "      <td>18.67007</td>\n",
       "      <td>73.78613</td>\n",
       "    </tr>\n",
       "    <tr>\n",
       "      <th>3</th>\n",
       "      <td>Nehrunagar Depot</td>\n",
       "      <td>18.62930</td>\n",
       "      <td>73.81942</td>\n",
       "    </tr>\n",
       "    <tr>\n",
       "      <th>4</th>\n",
       "      <td>Jagtap Chowk</td>\n",
       "      <td>18.49153</td>\n",
       "      <td>73.90019</td>\n",
       "    </tr>\n",
       "  </tbody>\n",
       "</table>\n",
       "</div>"
      ],
      "text/plain": [
       "            stop_name  stop_lat  stop_lon\n",
       "0  Forest Office Road  18.51983  73.63158\n",
       "1     Kusalkar Putala  18.52889  73.82708\n",
       "2          Tower Line  18.67007  73.78613\n",
       "3    Nehrunagar Depot  18.62930  73.81942\n",
       "4        Jagtap Chowk  18.49153  73.90019"
      ]
     },
     "execution_count": 5,
     "metadata": {},
     "output_type": "execute_result"
    }
   ],
   "source": [
    "df_stops.drop(columns=['stop_code','stop_id'],inplace=True)\n",
    "df_stops.head()"
   ]
  },
  {
   "cell_type": "code",
   "execution_count": null,
   "metadata": {},
   "outputs": [],
   "source": []
  }
 ],
 "metadata": {
  "kernelspec": {
   "display_name": "Python 3",
   "language": "python",
   "name": "python3"
  },
  "language_info": {
   "codemirror_mode": {
    "name": "ipython",
    "version": 3
   },
   "file_extension": ".py",
   "mimetype": "text/x-python",
   "name": "python",
   "nbconvert_exporter": "python",
   "pygments_lexer": "ipython3",
   "version": "3.7.3"
  },
  "varInspector": {
   "cols": {
    "lenName": 16,
    "lenType": 16,
    "lenVar": 40
   },
   "kernels_config": {
    "python": {
     "delete_cmd_postfix": "",
     "delete_cmd_prefix": "del ",
     "library": "var_list.py",
     "varRefreshCmd": "print(var_dic_list())"
    },
    "r": {
     "delete_cmd_postfix": ") ",
     "delete_cmd_prefix": "rm(",
     "library": "var_list.r",
     "varRefreshCmd": "cat(var_dic_list()) "
    }
   },
   "types_to_exclude": [
    "module",
    "function",
    "builtin_function_or_method",
    "instance",
    "_Feature"
   ],
   "window_display": false
  }
 },
 "nbformat": 4,
 "nbformat_minor": 2
}
