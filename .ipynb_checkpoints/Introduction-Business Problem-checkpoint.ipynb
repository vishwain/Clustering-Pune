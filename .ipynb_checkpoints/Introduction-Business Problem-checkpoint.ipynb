{
 "cells": [
  {
   "cell_type": "markdown",
   "metadata": {},
   "source": [
    "# Introduction/Business Problem"
   ]
  },
  {
   "cell_type": "markdown",
   "metadata": {},
   "source": [
    "### Problem: Analyzing business potential of areas in Pune, India."
   ]
  },
  {
   "cell_type": "markdown",
   "metadata": {},
   "source": [
    "#### Problem Statement:\n",
    "\n",
    "Pune, being a major metropolitan city in state of Maharashtra, India is a very fast developing city with plenty of opportunities for business. There are multiple potential business locations in this city. But its very difficult to decide upon the location and category or nature of the business. For someone with capital wanting to invest in or start a business, they must first know which are the areas which have good prospects for the business to run, which is the category of business with most competitors and which category is most probable to failure.\n",
    "\n",
    "The __target audience__ will be the someone who wants to start a new business of some category and needs to find a location with best prospects.\n",
    "\n",
    "All this can be found by analyzing the venue data.\n",
    "\n",
    "Note: The business categories will be limited to the Categories of the venues listed by the Foursquare API."
   ]
  },
  {
   "cell_type": "markdown",
   "metadata": {},
   "source": [
    "#### Discussion:\n",
    "\n",
    "To start, first thing I need to know is which areas to analyze for this project. I will simply start by selecting few locations across Pune which are more bustling from what I know and heard from people. I will also include adjoining city, Pimpri-Chinchwad in my analysis. After selecting and getting coordinates of these areas(using geopy library), it will be possible to get the data on Venues from __Foursquare__.\n",
    "\n",
    "The data of the venues depends on the search radius specified while requesting from Foursquare. It is very much possible that business venues location overlaps or is duplicate. So it needs to be clustered into different locations and named appropriately. Then these clusters can be analyzed separately for best choice of business category or for the possibility of success of preferred category.\n",
    "\n",
    "To further dig and explore more about the area clustered I will use data about location connectivity, nearby banks and ATM's."
   ]
  },
  {
   "cell_type": "code",
   "execution_count": null,
   "metadata": {},
   "outputs": [],
   "source": []
  }
 ],
 "metadata": {
  "kernelspec": {
   "display_name": "Python 3",
   "language": "python",
   "name": "python3"
  },
  "language_info": {
   "codemirror_mode": {
    "name": "ipython",
    "version": 3
   },
   "file_extension": ".py",
   "mimetype": "text/x-python",
   "name": "python",
   "nbconvert_exporter": "python",
   "pygments_lexer": "ipython3",
   "version": "3.7.3"
  },
  "varInspector": {
   "cols": {
    "lenName": 16,
    "lenType": 16,
    "lenVar": 40
   },
   "kernels_config": {
    "python": {
     "delete_cmd_postfix": "",
     "delete_cmd_prefix": "del ",
     "library": "var_list.py",
     "varRefreshCmd": "print(var_dic_list())"
    },
    "r": {
     "delete_cmd_postfix": ") ",
     "delete_cmd_prefix": "rm(",
     "library": "var_list.r",
     "varRefreshCmd": "cat(var_dic_list()) "
    }
   },
   "types_to_exclude": [
    "module",
    "function",
    "builtin_function_or_method",
    "instance",
    "_Feature"
   ],
   "window_display": false
  }
 },
 "nbformat": 4,
 "nbformat_minor": 2
}
